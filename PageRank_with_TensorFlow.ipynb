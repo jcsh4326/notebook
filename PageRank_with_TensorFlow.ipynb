{
  "nbformat": 4,
  "nbformat_minor": 0,
  "metadata": {
    "colab": {
      "name": "PageRank_with_TensorFlow.ipynb",
      "version": "0.3.2",
      "provenance": [],
      "collapsed_sections": [],
      "toc_visible": true,
      "include_colab_link": true
    },
    "kernelspec": {
      "name": "python3",
      "display_name": "Python 3"
    },
    "accelerator": "GPU"
  },
  "cells": [
    {
      "cell_type": "markdown",
      "metadata": {
        "id": "view-in-github",
        "colab_type": "text"
      },
      "source": [
        "<a href=\"https://colab.research.google.com/github/jcsh4326/notebook/blob/master/PageRank_with_TensorFlow.ipynb\" target=\"_parent\"><img src=\"https://colab.research.google.com/assets/colab-badge.svg\" alt=\"Open In Colab\"/></a>"
      ]
    },
    {
      "metadata": {
        "id": "bicOo90ee4XB",
        "colab_type": "text"
      },
      "cell_type": "markdown",
      "source": [
        "# Introduction\n",
        "This is a project for learning TensorFlow at a deeper level and implementing an algorithm from a low level in order to better understanding.\n"
      ]
    },
    {
      "metadata": {
        "id": "ddbvaj5QgD15",
        "colab_type": "text"
      },
      "cell_type": "markdown",
      "source": [
        "# Page Rank Algorithm\n",
        "PageRank(PR) is an algorithm used by Google Search to rank websites in their search engine results.\n",
        "\n",
        "PageRank was named after Larry Page, one of the founders of Google. \n",
        "\n",
        "PageRank is a way of measuring the importance of website pages. According to Google:\n",
        "```\n",
        "PageRank works by counting the number and quality of links to a page to determine a rough estimate of how important the website is. The underlying assumption is that more important websites are likely to receive more links from other websites.\n",
        "```\n",
        "\n",
        "## Algorithm\n",
        "\n",
        "### Algorithm Outputs\n",
        "The PageRank algorithm outputs a **probability distribution** used to represent *the likelihood*  that a person randomly clicking on links will arrive at any particular page.\n",
        "\n",
        "### Simplified Algorithm\n",
        "Assume:\n",
        "```\n",
        "1. A small universe of 4 web pages: A, B, C and D.\n",
        "2. PageRank is initialized to the same value for all pages.\n",
        "```\n"
      ]
    },
    {
      "metadata": {
        "id": "jhdeSySvpSMA",
        "colab_type": "code",
        "colab": {}
      },
      "cell_type": "code",
      "source": [
        "#@title import\n",
        "import networkx as nx\n",
        "import matplotlib.pyplot as plt "
      ],
      "execution_count": 0,
      "outputs": []
    },
    {
      "metadata": {
        "id": "v_mJU_00pl3L",
        "colab_type": "code",
        "colab": {}
      },
      "cell_type": "code",
      "source": [
        "#@title show graph example\n",
        "nodes = ['a', 'b', 'c', 'd']\n",
        "edges = [('a', 'b'), ('a', 'c'), ('a', 'd'),('b', 'a'), ('b', 'd'), ('c', 'a'), ('c', 'd'), ('d', 'a'), ('d', 'c')]\n",
        "G = nx.OrderedMultiDiGraph()\n",
        "G.add_nodes_from(nodes)\n",
        "G.add_edges_from(edges, weight=1)\n",
        "\n",
        "nx.draw(G, with_labels=True)\n",
        "plt.show()"
      ],
      "execution_count": 0,
      "outputs": []
    },
    {
      "metadata": {
        "id": "EdDYq6_R6jFy",
        "colab_type": "text"
      },
      "cell_type": "markdown",
      "source": [
        "## Dead Ends and Spider Traps\n",
        "Dead Ends and Spider Traps are two problems the person randomly clicking on links may get into trouble."
      ]
    },
    {
      "metadata": {
        "id": "OmcGFLGorcAG",
        "colab_type": "code",
        "colab": {}
      },
      "cell_type": "code",
      "source": [
        "#@title show a graph with Dead Ends Problem\n",
        "#@markdown <br> a dead end page means the page has no outbound link so once the person arrived at that page he can never leave out.<br> in this example page c is a dead end page.\n",
        "nodes = ['a', 'b', 'c', 'd']\n",
        "edges = [('a', 'b'), ('a', 'c'), ('a', 'd'),('b', 'a'), ('b', 'd'), ('d', 'a'), ('d', 'c')]\n",
        "G = nx.OrderedMultiDiGraph()\n",
        "G.add_nodes_from(nodes)\n",
        "G.add_edges_from(edges)\n",
        "\n",
        "nx.draw(G, with_labels=True)\n",
        "plt.show()"
      ],
      "execution_count": 0,
      "outputs": []
    },
    {
      "metadata": {
        "id": "FIuhahg7tbKh",
        "colab_type": "code",
        "colab": {}
      },
      "cell_type": "code",
      "source": [
        "#@title show a graph with Spider Traps Problem\n",
        "#@markdown <br> a spider trap page means the page has no outbound link but itself.<br> I didn't install pygraphviz and pydot, so I can't draw the self loops.<br>  the page c has a self loop just image it by yourself.\n",
        "nodes = ['a', 'b', 'c', 'd']\n",
        "edges = [('a', 'b'), ('a', 'c'), ('a', 'd'),('b', 'a'), ('b', 'd'), ('d', 'a'), ('d', 'c'), ('c', 'c')]\n",
        "G = nx.DiGraph()\n",
        "G.add_nodes_from(nodes)\n",
        "G.add_edges_from(edges)\n",
        "\n",
        "nx.draw(G, with_labels=True)\n",
        "print(G.nodes_with_selfloops())\n",
        "plt.show()"
      ],
      "execution_count": 0,
      "outputs": []
    },
    {
      "metadata": {
        "id": "FUhzGAq66MMU",
        "colab_type": "text"
      },
      "cell_type": "markdown",
      "source": [
        "But the person is a smart one who knows how to save himself out of the trouble by inputting a new link which may be the same link currently browsing.\n"
      ]
    },
    {
      "metadata": {
        "id": "n7k7Dz2c9tuB",
        "colab_type": "text"
      },
      "cell_type": "markdown",
      "source": [
        "# Implement PageRank Algorithm with Python\n",
        " 1. $D$: out degree matrix of the page rank graph\n",
        "    * $D_{ij} = \\sum_{j=0}^{n}{A_{ij}}$ \n",
        "    * $i=j=n$ \n",
        "    * $i$ is the row number and $j$ is the colum number\n",
        "    * $A_{ij}$ is the adjacent matrix of page rank graph    \n",
        " 2. $T$: the probability of transferring from one page to the other\n",
        "   * $T_{ji} = A_{ij}/D_{ii}$\n",
        " 3. $P$: the probability distribution\n",
        "   * $P$, $P$ is a $n_p$- dimensional column  vector\n",
        "   * $n_p$ is the number of pages\n",
        "   * $P_{iter.}$ is the probability distribution of every iteration\n",
        "   * $P_0$ is the initialization probability distributionl\n",
        "   * ${P_0}_j = 1/n_p, j \\in [0,  n_p - 1]$\n",
        " 4. $V$: the probability distribution vector\n",
        "  * $V = T_{ij}P_0P_1...P_{iter. - 1}$\n",
        "  * at last $ P_{iter. - 1} = P_{iter.}$\n",
        " 5. to avoid the dead ends and spider traps problems\n",
        "  * $P' = αT_{ij}P+(1-α)P_0$\n",
        "  * $V = T_{ij}P'_0P'_1...P'_{iter. - 1}$\n",
        "  \n",
        "for convergence we need a max iteration and a tolerance, but in this simple example, we ignore those conditions."
      ]
    },
    {
      "metadata": {
        "id": "fp0fd7LcStli",
        "colab_type": "code",
        "colab": {}
      },
      "cell_type": "code",
      "source": [
        "#@title implement without any library\n",
        "#@markdown init-param <br> np: $n_p$, the number of pages <br>d: α <br> A: the adjacent matrix\n",
        "#@markdown edges [(a, b), (a, c), (b, a), (b, d), (c, a), (c, d), (d, a), (d, b)]\n",
        "np = 4\n",
        "d = 0.8\n",
        "A = [[0, 1, 1, 1],\\\n",
        "     [1, 0, 0, 1],\\\n",
        "     [0, 0, 1, 0],\\\n",
        "     [0, 1, 1, 0]]"
      ],
      "execution_count": 0,
      "outputs": []
    },
    {
      "metadata": {
        "id": "v1pg8a31U931",
        "colab_type": "code",
        "outputId": "6bf851e9-7f91-46ea-833f-6235c8669898",
        "colab": {
          "base_uri": "https://localhost:8080/",
          "height": 34
        }
      },
      "cell_type": "code",
      "source": [
        "#@markdown compute the out-degree matrix\n",
        "D = [[0]*np for i in range(np)]\n",
        "for idx, a in enumerate(A):\n",
        "  D[idx][idx] = sum(a)  \n",
        "print(D)"
      ],
      "execution_count": 0,
      "outputs": [
        {
          "output_type": "stream",
          "text": [
            "[[3, 0, 0, 0], [0, 2, 0, 0], [0, 0, 1, 0], [0, 0, 0, 2]]\n"
          ],
          "name": "stdout"
        }
      ]
    },
    {
      "metadata": {
        "id": "2DKOWyo4YS8j",
        "colab_type": "code",
        "outputId": "757f1d27-3a6e-462d-92f3-65560508a130",
        "colab": {
          "base_uri": "https://localhost:8080/",
          "height": 54
        }
      },
      "cell_type": "code",
      "source": [
        "#@markdown compute hte probability of transferring\n",
        "T = [[0]*np for i in range(np)]\n",
        "for i, a in enumerate(A):\n",
        "  for j, _a in enumerate(a):\n",
        "    T[j][i] = _a/D[i][i]    \n",
        "print(T)  "
      ],
      "execution_count": 0,
      "outputs": [
        {
          "output_type": "stream",
          "text": [
            "[[0.0, 0.5, 0.0, 0.0], [0.3333333333333333, 0.0, 0.0, 0.5], [0.3333333333333333, 0.0, 1.0, 0.5], [0.3333333333333333, 0.5, 0.0, 0.0]]\n"
          ],
          "name": "stdout"
        }
      ]
    },
    {
      "metadata": {
        "id": "FffJhDz4ZdTh",
        "colab_type": "code",
        "outputId": "dfbc0901-69e7-4404-ac22-442c08da8102",
        "colab": {
          "base_uri": "https://localhost:8080/",
          "height": 34
        }
      },
      "cell_type": "code",
      "source": [
        "#@markdown comupte $P_0$\n",
        "P0 = [[1/np]*1 for i in range(np)]\n",
        "print(P0)"
      ],
      "execution_count": 0,
      "outputs": [
        {
          "output_type": "stream",
          "text": [
            "[[0.25], [0.25], [0.25], [0.25]]\n"
          ],
          "name": "stdout"
        }
      ]
    },
    {
      "metadata": {
        "id": "zB4EZnJnZ8ca",
        "colab_type": "code",
        "colab": {}
      },
      "cell_type": "code",
      "source": [
        "#@title functions\n",
        "def matrix_multi(A, B):\n",
        "  r = [[0]*len(B[0]) for i in range(len(A))]\n",
        "  for i, a in enumerate(A):\n",
        "    # a is row_i\n",
        "    for j in range(len(B[0])):\n",
        "      #r[i][j] = sum(Arow_i * Bcol_j)      \n",
        "      m = 0\n",
        "      for k, _a in enumerate(a):\n",
        "        r[i][j] = r[i][j] + _a * B[k][j]\n",
        "  return r\n",
        "\n",
        "def n_multi_matrix(n, A):\n",
        "  r = [[0] * len(A[0]) for i in range(len(A))]\n",
        "  for i, a in enumerate(A):\n",
        "    for j, _a in enumerate(a):\n",
        "      r[i][j] = n*_a\n",
        "  return r\n",
        "\n",
        "def matrix_plus(A, B):\n",
        "  r = [[0] * len(A[0]) for i in range(len(A))]\n",
        "  for i, a in enumerate(A):\n",
        "    for j, b in enumerate(B):\n",
        "      for k, _a in enumerate(a):\n",
        "        r[i][k] = _a + b[k]\n",
        "  return r\n",
        "\n",
        "def V(d, T, P, P0):\n",
        "  return matrix_plus(n_multi_matrix(d, matrix_multi(T, P)), n_multi_matrix(1-d, P0))\n"
      ],
      "execution_count": 0,
      "outputs": []
    },
    {
      "metadata": {
        "id": "c4GmZhYEUvIi",
        "colab_type": "code",
        "colab": {}
      },
      "cell_type": "code",
      "source": [
        "#@markdown comupte P'\n",
        "P = P0\n",
        "p = V(d, T, P0, P0)\n",
        "max_iter=100\n",
        "while(p != P and max_iter > 0):\n",
        "  P = p\n",
        "  p = V(d, T, p, P0)\n",
        "  max_iter -= 1\n",
        "  print(max_iter)\n",
        "print(p)\n",
        "  \n"
      ],
      "execution_count": 0,
      "outputs": []
    },
    {
      "metadata": {
        "id": "X4nFmxKRiSut",
        "colab_type": "text"
      },
      "cell_type": "markdown",
      "source": [
        "# Implement PageRank Algorithm with TensorFlow"
      ]
    },
    {
      "metadata": {
        "id": "8INqOt5VjqR9",
        "colab_type": "code",
        "colab": {}
      },
      "cell_type": "code",
      "source": [
        "#@title import\n",
        "import tensorflow as tf\n",
        "import numpy as np"
      ],
      "execution_count": 0,
      "outputs": []
    },
    {
      "metadata": {
        "id": "dacD_opJmarN",
        "colab_type": "code",
        "colab": {}
      },
      "cell_type": "code",
      "source": [
        "#@title matrix multi with tf\n",
        "with tf.name_scope('inputs'):\n",
        "  # define placeholder for inputs to network\n",
        "  T = tf.placeholder(tf.float32, [None, None], name='Transfer_Probability_Matrix')\n",
        "  P0 = tf.placeholder(tf.float32, [None ,1], name = 'Init_Probability_Distribution')\n",
        "  D = tf.placeholder(tf.float32, [None, 1], name = \"alpha\")\n",
        "  ONE = tf.placeholder(tf.float32, [None, 1], name = \"1\")\n",
        "  PRE = tf.placeholder(tf.float32, [None ,1], name = 'Pre_Probability_Distribution')\n",
        "\n",
        "with tf.name_scope('Probability_Distribution'):\n",
        "    with tf.name_scope('alpha_TP'):\n",
        "      W = tf.multiply(D, tf.matmul(T, PRE), name='Weights')\n",
        "    with tf.name_scope('1_sub_alpha_multi_P'):\n",
        "      b = tf.multiply(tf.subtract(ONE,D), P0, name='Biases')\n",
        "    with tf.name_scope('plus'):\n",
        "      V = tf.add(W, b)\n",
        "      tf.summary.histogram('probability_distribution', V)\n",
        "with tf.name_scope('loss'):\n",
        "  LOSS = tf.reduce_sum(tf.square(tf.subtract(V, PRE)))\n",
        "  tf.summary.scalar('loss', LOSS)"
      ],
      "execution_count": 0,
      "outputs": []
    },
    {
      "metadata": {
        "id": "m-b2fw8WXyP3",
        "colab_type": "code",
        "colab": {}
      },
      "cell_type": "code",
      "source": [
        "#@title simulator input\n",
        "num_p = 4\n",
        "_d = 0.85\n",
        "one = np.ones([num_p, 1], dtype=np.float32)\n",
        "d = np.full((num_p, 1), _d, dtype=np.float32)\n",
        "p0 = np.full((num_p, 1), 1/num_p, dtype=np.float32)"
      ],
      "execution_count": 0,
      "outputs": []
    },
    {
      "metadata": {
        "id": "QdyniYb-aTpK",
        "colab_type": "code",
        "colab": {
          "base_uri": "https://localhost:8080/",
          "height": 119
        },
        "outputId": "34283204-68c7-435e-a27a-ceaa458b9909"
      },
      "cell_type": "code",
      "source": [
        "A = [[0, 1, 1, 1],\\\n",
        "     [1, 0, 0, 1],\\\n",
        "     [0, 0, 1, 0],\\\n",
        "     [0, 1, 1, 0]]\n",
        "#@markdown compute the out-degree matrix\n",
        "od = [[0]*num_p for i in range(num_p)]\n",
        "for idx, a in enumerate(A):\n",
        "  od[idx][idx] = sum(a)  \n",
        "print(od)\n",
        "#@markdown compute hte probability of transferring\n",
        "t = [[0]*num_p for i in range(num_p)]\n",
        "for i, a in enumerate(A):\n",
        "  for j, _a in enumerate(a):\n",
        "    t[j][i] = _a/od[i][i]    \n",
        "print(t)  \n",
        "t = np.asarray(t)\n",
        "print(t)"
      ],
      "execution_count": 41,
      "outputs": [
        {
          "output_type": "stream",
          "text": [
            "[[3, 0, 0, 0], [0, 2, 0, 0], [0, 0, 1, 0], [0, 0, 0, 2]]\n",
            "[[0.0, 0.5, 0.0, 0.0], [0.3333333333333333, 0.0, 0.0, 0.5], [0.3333333333333333, 0.0, 1.0, 0.5], [0.3333333333333333, 0.5, 0.0, 0.0]]\n",
            "[[0.         0.5        0.         0.        ]\n",
            " [0.33333333 0.         0.         0.5       ]\n",
            " [0.33333333 0.         1.         0.5       ]\n",
            " [0.33333333 0.5        0.         0.        ]]\n"
          ],
          "name": "stdout"
        }
      ]
    },
    {
      "metadata": {
        "id": "Z-4CCbWbbXsY",
        "colab_type": "code",
        "colab": {}
      },
      "cell_type": "code",
      "source": [
        "sess = tf.Session()\n",
        "merged = tf.summary.merge_all()\n",
        "writer = tf.summary.FileWriter('logs/', sess.graph)\n",
        "init = tf.global_variables_initializer()\n",
        "sess.run(init)"
      ],
      "execution_count": 0,
      "outputs": []
    },
    {
      "metadata": {
        "id": "brhWa75nbpOq",
        "colab_type": "code",
        "colab": {
          "base_uri": "https://localhost:8080/",
          "height": 187
        },
        "outputId": "f278121f-2173-46e3-b929-689ffaf27fa0"
      },
      "cell_type": "code",
      "source": [
        "tol = 0.0000001\n",
        "pre = p0\n",
        "v = sess.run(V, feed_dict={T:t, P0:p0, D:d, ONE: one, PRE: pre})\n",
        "loss = sess.run(LOSS, feed_dict={T:t, P0:p0, D:d, ONE: one, PRE: pre})\n",
        "print(v)\n",
        "print(loss)\n",
        "while(loss > tol):\n",
        "  pre = v\n",
        "  v = sess.run(V, feed_dict={T:t, P0:p0, D:d, ONE: one, PRE: pre})\n",
        "  loss = sess.run(LOSS, feed_dict={T:t, P0:p0, D:d, ONE: one, PRE: pre})\n",
        "  tb = sess.run(merged, feed_dict={T:t, P0:p0, D:d, ONE: one, PRE: pre})\n",
        "  writer.add_summary(tb, i)\n",
        "print(loss)  \n",
        "print(v)"
      ],
      "execution_count": 44,
      "outputs": [
        {
          "output_type": "stream",
          "text": [
            "[[0.14375   ]\n",
            " [0.21458334]\n",
            " [0.42708334]\n",
            " [0.21458334]]\n",
            "0.04515625\n",
            "5.929944e-08\n",
            "[[0.0825805 ]\n",
            " [0.10599352]\n",
            " [0.70543253]\n",
            " [0.10599352]]\n"
          ],
          "name": "stdout"
        }
      ]
    },
    {
      "metadata": {
        "id": "1Gtlf4VakrcU",
        "colab_type": "code",
        "colab": {
          "base_uri": "https://localhost:8080/",
          "height": 255
        },
        "outputId": "20767116-d1a8-44e8-c7e7-a7beb91ff88c"
      },
      "cell_type": "code",
      "source": [
        "#@title install ngrok\n",
        "!wget https://bin.equinox.io/c/4VmDzA7iaHb/ngrok-stable-linux-amd64.zip\n",
        "!unzip ngrok-stable-linux-amd64.zip"
      ],
      "execution_count": 45,
      "outputs": [
        {
          "output_type": "stream",
          "text": [
            "--2018-11-30 07:44:33--  https://bin.equinox.io/c/4VmDzA7iaHb/ngrok-stable-linux-amd64.zip\n",
            "Resolving bin.equinox.io (bin.equinox.io)... 34.238.3.58, 34.232.181.106, 35.172.177.65, ...\n",
            "Connecting to bin.equinox.io (bin.equinox.io)|34.238.3.58|:443... connected.\n",
            "HTTP request sent, awaiting response... 200 OK\n",
            "Length: 5363700 (5.1M) [application/octet-stream]\n",
            "Saving to: ‘ngrok-stable-linux-amd64.zip.1’\n",
            "\n",
            "ngrok-stable-linux- 100%[===================>]   5.11M  3.53MB/s    in 1.5s    \n",
            "\n",
            "2018-11-30 07:44:35 (3.53 MB/s) - ‘ngrok-stable-linux-amd64.zip.1’ saved [5363700/5363700]\n",
            "\n",
            "Archive:  ngrok-stable-linux-amd64.zip\n",
            "replace ngrok? [y]es, [n]o, [A]ll, [N]one, [r]ename: y\n",
            "  inflating: ngrok                   \n"
          ],
          "name": "stdout"
        }
      ]
    },
    {
      "metadata": {
        "id": "hC1EKbXqktxU",
        "colab_type": "code",
        "colab": {
          "base_uri": "https://localhost:8080/",
          "height": 34
        },
        "outputId": "536f7cd5-35ca-49fe-fb02-3a48871745e9"
      },
      "cell_type": "code",
      "source": [
        "#@title ngrok\n",
        "LOG_DIR = './logs'\n",
        "get_ipython().system_raw(\n",
        "    'tensorboard --logdir {} --host 0.0.0.0 --port 6006 &'\n",
        "    .format(LOG_DIR)\n",
        ")\n",
        "\n",
        "get_ipython().system_raw('./ngrok http 6006 &')\n",
        "!curl -s http://localhost:4040/api/tunnels | python3 -c \\\n",
        "    \"import sys, json; print(json.load(sys.stdin)['tunnels'][0]['public_url'])\""
      ],
      "execution_count": 46,
      "outputs": [
        {
          "output_type": "stream",
          "text": [
            "http://065ce897.ngrok.io\n"
          ],
          "name": "stdout"
        }
      ]
    }
  ]
}