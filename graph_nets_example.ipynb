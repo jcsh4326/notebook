{
  "nbformat": 4,
  "nbformat_minor": 0,
  "metadata": {
    "colab": {
      "name": "graph_nets_example.ipynb",
      "version": "0.3.2",
      "provenance": [],
      "toc_visible": true,
      "include_colab_link": true
    },
    "kernelspec": {
      "name": "python3",
      "display_name": "Python 3"
    },
    "accelerator": "GPU"
  },
  "cells": [
    {
      "cell_type": "markdown",
      "metadata": {
        "id": "view-in-github",
        "colab_type": "text"
      },
      "source": [
        "<a href=\"https://colab.research.google.com/github/jcsh4326/notebook/blob/master/graph_nets_example.ipynb\" target=\"_parent\"><img src=\"https://colab.research.google.com/assets/colab-badge.svg\" alt=\"Open In Colab\"/></a>"
      ]
    },
    {
      "metadata": {
        "id": "hmAcynd_FDO7",
        "colab_type": "text"
      },
      "cell_type": "markdown",
      "source": [
        "# 安装tensorflow_probobility\n",
        "\n",
        "[从源码安装tensorflow_probability_gpu](https://colab.research.google.com/github/jcsh4326/notebook/blob/master/%E4%BB%8E%E6%BA%90%E7%A0%81%E5%AE%89%E8%A3%85tensorflow_probability_gpu.ipynb)"
      ]
    },
    {
      "metadata": {
        "id": "zmoZ5m5OFMst",
        "colab_type": "code",
        "colab": {}
      },
      "cell_type": "code",
      "source": [
        "#@title build tensorflow_probability from source  { form-width: \"30%\" }\n",
        "\n",
        "!wget https://github.com/bazelbuild/bazel/releases/download/0.19.1/bazel-0.19.1-installer-linux-x86_64.sh\n",
        "!chmod +x bazel-0.19.1-installer-linux-x86_64.sh\n",
        "!./bazel-0.19.1-installer-linux-x86_64.sh --user\n",
        "\n",
        "!git clone https://github.com/tensorflow/probability.git\n",
        "import os\n",
        "os.chdir('probability')\n",
        "\n",
        "!$HOME/bin/bazel build --copt=-O3 --copt=-march=native :pip_pkg\n",
        "  \n",
        "from tempfile import TemporaryFile\n",
        "PKGDIR = TemporaryFile('w+t').name\n",
        "\n",
        "!./bazel-bin/pip_pkg $PKGDIR\n",
        "!pip install --user --upgrade $PKGDIR/*.whl"
      ],
      "execution_count": 0,
      "outputs": []
    },
    {
      "metadata": {
        "id": "WZ94TGwDHKaP",
        "colab_type": "text"
      },
      "cell_type": "markdown",
      "source": [
        "# 安装graph_nets_gpu"
      ]
    },
    {
      "metadata": {
        "id": "gIJB4m5r2yAP",
        "colab_type": "code",
        "colab": {}
      },
      "cell_type": "code",
      "source": [
        " #@title install graph_nets for gpu with pip\n",
        " !pip install graph_nets"
      ],
      "execution_count": 0,
      "outputs": []
    },
    {
      "metadata": {
        "id": "tzirEVgs2miw",
        "colab_type": "text"
      },
      "cell_type": "markdown",
      "source": [
        "# Hello Word\n",
        "一个图网络是由什么构成的呢？ \n",
        "\n",
        "首先我们需要一些节点，这些节点是具体样本抽象后的表示，节点上带有样本的特征，这个样本有可能是一个具体的东西，比如社群关系中的一个任务，论文引用/被引样本集中的一篇论文，也有可能是一个东西的局部，比如一个人物动作中的某个关节节点，一张图片的某一个或某一块像素，当然也可能是一些更抽象的概念。需要注意的是，在graph_nets的使用中，特征是必需的，哪怕这个特征在具体的问题中抽象为“empty”或者“none”，也应该明确地定义出来，而不是让框架接受到“undefined”。\n",
        "\n",
        "其次我们需要一些边，这些边表明了节点与节点之间的关系。这些节点被分为receivers和senders，顾名思义，这表明了“关系”的发出方和接收方，由此我们可以明确，这个图是一个“有向图”。毫无疑问的，边也具有自身的特征，同样要满足框架的要求。\n",
        "\n",
        "最后，既然边和节点需要定义特征，图需不需要呢？答案是同样需要。\n",
        "\n",
        "以networkx为例，graph_nets在测试用例中定义了一个特征都是“none”的用例，\n",
        "\n",
        "\n",
        "```\n",
        "def test_networkxs_to_graphs_tuple_with_none_fields(self):\n",
        "    graph_nx = nx.OrderedMultiDiGraph()\n",
        "    data_dict = utils_np.networkx_to_data_dict(\n",
        "        graph_nx,\n",
        "        node_shape_hint=None,\n",
        "        edge_shape_hint=None)\n",
        "    self.assertEqual(None, data_dict[\"edges\"])\n",
        "    self.assertEqual(None, data_dict[\"globals\"])\n",
        "    self.assertEqual(None, data_dict[\"nodes\"])\n",
        "    graph_nx.add_node(0, features=None)\n",
        "    data_dict = utils_np.networkx_to_data_dict(\n",
        "        graph_nx,\n",
        "        node_shape_hint=1,\n",
        "        edge_shape_hint=None)\n",
        "    self.assertEqual(None, data_dict[\"nodes\"])\n",
        "    graph_nx.add_edge(0, 0, features=None)\n",
        "    data_dict = utils_np.networkx_to_data_dict(\n",
        "        graph_nx,\n",
        "        node_shape_hint=[1],\n",
        "        edge_shape_hint=[1])\n",
        "    self.assertEqual(None, data_dict[\"edges\"])\n",
        "    graph_nx.graph[\"features\"] = None\n",
        "    utils_np.networkx_to_data_dict(graph_nx)\n",
        "    self.assertEqual(None, data_dict[\"globals\"])\n",
        "```\n",
        "\n",
        "如果没有定义“features\"会发生什么呢？比如没有定义node的features，\n",
        "\n",
        "\n",
        "```\n",
        "KeyError                                  Traceback (most recent call last)\n",
        "/usr/local/lib/python3.6/dist-packages/graph_nets/utils_np.py in networkx_to_data_dict(graph_nx, node_shape_hint, edge_shape_hint, data_type_hint)\n",
        "    168           x[1][GRAPH_NX_FEATURES_KEY]\n",
        "--> 169           for x in graph_nx.nodes(data=True)\n",
        "    170           if x[1][GRAPH_NX_FEATURES_KEY] is not None\n",
        "\n",
        "/usr/local/lib/python3.6/dist-packages/graph_nets/utils_np.py in <listcomp>(.0)\n",
        "    169           for x in graph_nx.nodes(data=True)\n",
        "--> 170           if x[1][GRAPH_NX_FEATURES_KEY] is not None\n",
        "    171       ]\n",
        "\n",
        "KeyError: 'features'\n",
        "\n",
        "During handling of the above exception, another exception occurred:\n",
        "\n",
        "KeyError                                  Traceback (most recent call last)\n",
        "<ipython-input-7-3496952e54e1> in <module>()\n",
        "----> 1 input_graphs = utils_np.networkxs_to_graphs_tuple([nxs])\n",
        "      2 # Create the graph network.\n",
        "      3 graph_net_module = gn.modules.GraphNetwork(\n",
        "      4     edge_model_fn=lambda: snt.nets.MLP([32, 32]),\n",
        "      5     node_model_fn=lambda: snt.nets.MLP([32, 32]),\n",
        "\n",
        "/usr/local/lib/python3.6/dist-packages/graph_nets/utils_np.py in networkxs_to_graphs_tuple(graph_nxs, node_shape_hint, edge_shape_hint, data_type_hint)\n",
        "    335     for graph_nx in graph_nxs:\n",
        "    336       data_dict = networkx_to_data_dict(graph_nx, node_shape_hint,\n",
        "--> 337                                         edge_shape_hint, data_type_hint)\n",
        "    338       data_dicts.append(data_dict)\n",
        "    339   except TypeError:\n",
        "\n",
        "/usr/local/lib/python3.6/dist-packages/graph_nets/utils_np.py in networkx_to_data_dict(graph_nx, node_shape_hint, edge_shape_hint, data_type_hint)\n",
        "    176         nodes = np.array(nodes_data)\n",
        "    177     except KeyError:\n",
        "--> 178       raise KeyError(\"Missing 'node' field from the graph nodes. \"\n",
        "    179                      \"This could be due to the node having been silently added \"\n",
        "    180                      \"as a consequence of an edge addition when creating the \"\n",
        "\n",
        "KeyError: \"Missing 'node' field from the graph nodes. This could be due to the node having been silently added as a consequence of an edge addition when creating the networkx instance\"\n",
        "```\n",
        "\n",
        "\n"
      ]
    },
    {
      "metadata": {
        "id": "gjPrqFO1L0TA",
        "colab_type": "code",
        "colab": {}
      },
      "cell_type": "code",
      "source": [
        "#@title import\n",
        "\n",
        "import networkx as nx               # colab 自带\n",
        "import matplotlib.pyplot as plt     # colab 自带\n",
        "import numpy as np                  # colab 自带\n",
        "import tensorflow as tf\n",
        "import sonnet as snt                # 安装graph-nets 附带安装dm-sonnet依赖项\n",
        "import graph_nets as gn\n",
        "from graph_nets import utils_np\n",
        "from graph_nets import utils_tf"
      ],
      "execution_count": 0,
      "outputs": []
    },
    {
      "metadata": {
        "id": "rsIobvpqB6mU",
        "colab_type": "code",
        "colab": {}
      },
      "cell_type": "code",
      "source": [
        "#@title functions\n",
        "def get_ordered_multi_digraph():\n",
        "  G = nx.OrderedMultiDiGraph()\n",
        "  # 定义图的节点\n",
        "  for node_index in range(10):    \n",
        "    # add_node 接受attr_dict=None, **attr. \n",
        "    # graph_nets的networkx_to_data_dict方法需要graph具有一个feature属性，\n",
        "    # feature属性表示的是节点的特征\n",
        "    G.add_node(node_index, features=np.array([node_index],dtype=np.float))\n",
        "  \n",
        "  # 定义 receivers和senders \n",
        "  senders = [1.,1.,2.,2.,3.,4.,5.,3.]\n",
        "  receivers = [2.,3.,4.,5.,6.,8.,8.,7.]\n",
        "  # 定义边\n",
        "  for edge_index, (receiver, sender) in enumerate(zip(receivers, senders)):\n",
        "    # Removing the \"index\" key makes this test fail 100%.\n",
        "    edge_data = {\"features\": np.array([edge_index],dtype=np.float), \"index\": edge_index}\n",
        "    G.add_edge(sender, receiver, **edge_data)\n",
        "  G.graph[\"features\"] = np.array([0],dtype=np.float)\n",
        "  #H = nx.path_graph(10)  # 生成10个节点，由0-9表示，由10-1条边线性连接\n",
        "  #G.add_nodes_from(H) # 把10个节点加入到图里\n",
        "  #G.add_edges_from([(1,2),(1,3),(2,4),(2,5),(3,6),(4,8),(5,8),(3,7)], weight=3) # 把指定的节点连接起来\n",
        "  print(list(G.nodes(data=True)))\n",
        "  return G  \n",
        "\n",
        "def show_graph(G):\n",
        "  nx.draw(G, with_labels=True)\n",
        "  plt.show()\n"
      ],
      "execution_count": 0,
      "outputs": []
    },
    {
      "metadata": {
        "id": "hp1QrFnXC2-P",
        "colab_type": "code",
        "colab": {}
      },
      "cell_type": "code",
      "source": [
        "#@title create graphs\n",
        "nxs = get_ordered_multi_digraph()\n",
        "show_graph(nxs)"
      ],
      "execution_count": 0,
      "outputs": []
    },
    {
      "metadata": {
        "id": "adFcixq623BI",
        "colab_type": "code",
        "colab": {}
      },
      "cell_type": "code",
      "source": [
        "#@title run module\n",
        "\n",
        "data_dic = utils_np.networkx_to_data_dict(nxs)\n",
        "print(data_dic)\n",
        "\n",
        "#input_graphs = utils_np.networkxs_to_graphs_tuple([nxs])\n",
        "input_graphs = utils_tf.data_dicts_to_graphs_tuple([data_dic])\n",
        "# Create the graph network.\n",
        "graph_net_module = gn.modules.GraphNetwork(\n",
        "    # output size [32, 32]\n",
        "    edge_model_fn=lambda: snt.nets.MLP([32, 32]),\n",
        "    node_model_fn=lambda: snt.nets.MLP([32, 32]),\n",
        "    global_model_fn=lambda: snt.nets.MLP([32, 32]))\n",
        "\n",
        "# Pass the input graphs to the graph network, and return the output graphs.\n",
        "output_graphs = graph_net_module(input_graphs)\n",
        "print(output_graphs)\n"
      ],
      "execution_count": 0,
      "outputs": []
    },
    {
      "metadata": {
        "id": "RfRWv-QPQ8Wn",
        "colab_type": "code",
        "colab": {
          "base_uri": "https://localhost:8080/",
          "height": 743
        },
        "outputId": "24660c86-d219-4660-97a5-40d5de1c2755"
      },
      "cell_type": "code",
      "source": [
        "#@title show result\n",
        "print(output_graphs.n_node)\n",
        "print(output_graphs.n_edge)\n",
        "\n",
        "output_dicts = utils_np.graphs_tuple_to_data_dicts(output_graphs)\n",
        "\n",
        "print(output_dicts)\n",
        "#res = utils_np.graphs_tuple_to_networkxs(output_graphs)\n",
        "#show_graph(res)"
      ],
      "execution_count": 7,
      "outputs": [
        {
          "output_type": "stream",
          "text": [
            "Tensor(\"data_dicts_to_graphs_tuple/stack_1:0\", shape=(1,), dtype=int32)\n",
            "Tensor(\"data_dicts_to_graphs_tuple/stack_2:0\", shape=(1,), dtype=int32)\n"
          ],
          "name": "stdout"
        },
        {
          "output_type": "error",
          "ename": "ValueError",
          "evalue": "ignored",
          "traceback": [
            "\u001b[0;31m---------------------------------------------------------------------------\u001b[0m",
            "\u001b[0;31mValueError\u001b[0m                                Traceback (most recent call last)",
            "\u001b[0;32m<ipython-input-7-dc5342a10f6b>\u001b[0m in \u001b[0;36m<module>\u001b[0;34m()\u001b[0m\n\u001b[1;32m      2\u001b[0m \u001b[0mprint\u001b[0m\u001b[0;34m(\u001b[0m\u001b[0moutput_graphs\u001b[0m\u001b[0;34m.\u001b[0m\u001b[0mn_edge\u001b[0m\u001b[0;34m)\u001b[0m\u001b[0;34m\u001b[0m\u001b[0;34m\u001b[0m\u001b[0m\n\u001b[1;32m      3\u001b[0m \u001b[0;34m\u001b[0m\u001b[0m\n\u001b[0;32m----> 4\u001b[0;31m \u001b[0moutput_dicts\u001b[0m \u001b[0;34m=\u001b[0m \u001b[0mutils_np\u001b[0m\u001b[0;34m.\u001b[0m\u001b[0mgraphs_tuple_to_data_dicts\u001b[0m\u001b[0;34m(\u001b[0m\u001b[0moutput_graphs\u001b[0m\u001b[0;34m)\u001b[0m\u001b[0;34m\u001b[0m\u001b[0;34m\u001b[0m\u001b[0m\n\u001b[0m\u001b[1;32m      5\u001b[0m \u001b[0;34m\u001b[0m\u001b[0m\n\u001b[1;32m      6\u001b[0m \u001b[0mprint\u001b[0m\u001b[0;34m(\u001b[0m\u001b[0moutput_dicts\u001b[0m\u001b[0;34m)\u001b[0m\u001b[0;34m\u001b[0m\u001b[0;34m\u001b[0m\u001b[0m\n",
            "\u001b[0;32m/usr/local/lib/python3.6/dist-packages/graph_nets/utils_np.py\u001b[0m in \u001b[0;36mgraphs_tuple_to_data_dicts\u001b[0;34m(graph)\u001b[0m\n\u001b[1;32m    398\u001b[0m       values). The NODES and EDGES fields have rank at least 2.\n\u001b[1;32m    399\u001b[0m   \"\"\"\n\u001b[0;32m--> 400\u001b[0;31m   \u001b[0moffset\u001b[0m \u001b[0;34m=\u001b[0m \u001b[0m_compute_stacked_offsets\u001b[0m\u001b[0;34m(\u001b[0m\u001b[0mgraph\u001b[0m\u001b[0;34m.\u001b[0m\u001b[0mn_node\u001b[0m\u001b[0;34m,\u001b[0m \u001b[0mgraph\u001b[0m\u001b[0;34m.\u001b[0m\u001b[0mn_edge\u001b[0m\u001b[0;34m)\u001b[0m\u001b[0;34m\u001b[0m\u001b[0;34m\u001b[0m\u001b[0m\n\u001b[0m\u001b[1;32m    401\u001b[0m \u001b[0;34m\u001b[0m\u001b[0m\n\u001b[1;32m    402\u001b[0m   \u001b[0mnodes_splits\u001b[0m \u001b[0;34m=\u001b[0m \u001b[0mnp\u001b[0m\u001b[0;34m.\u001b[0m\u001b[0mcumsum\u001b[0m\u001b[0;34m(\u001b[0m\u001b[0mgraph\u001b[0m\u001b[0;34m.\u001b[0m\u001b[0mn_node\u001b[0m\u001b[0;34m[\u001b[0m\u001b[0;34m:\u001b[0m\u001b[0;34m-\u001b[0m\u001b[0;36m1\u001b[0m\u001b[0;34m]\u001b[0m\u001b[0;34m)\u001b[0m\u001b[0;34m\u001b[0m\u001b[0;34m\u001b[0m\u001b[0m\n",
            "\u001b[0;32m/usr/local/lib/python3.6/dist-packages/graph_nets/utils_np.py\u001b[0m in \u001b[0;36m_compute_stacked_offsets\u001b[0;34m(sizes, repeats)\u001b[0m\n\u001b[1;32m    101\u001b[0m     \u001b[0mThe\u001b[0m \u001b[0mindex\u001b[0m \u001b[0moffset\u001b[0m \u001b[0mper\u001b[0m \u001b[0mgraph\u001b[0m\u001b[0;34m.\u001b[0m\u001b[0;34m\u001b[0m\u001b[0;34m\u001b[0m\u001b[0m\n\u001b[1;32m    102\u001b[0m   \"\"\"\n\u001b[0;32m--> 103\u001b[0;31m   \u001b[0;32mreturn\u001b[0m \u001b[0mnp\u001b[0m\u001b[0;34m.\u001b[0m\u001b[0mrepeat\u001b[0m\u001b[0;34m(\u001b[0m\u001b[0mnp\u001b[0m\u001b[0;34m.\u001b[0m\u001b[0mcumsum\u001b[0m\u001b[0;34m(\u001b[0m\u001b[0mnp\u001b[0m\u001b[0;34m.\u001b[0m\u001b[0mhstack\u001b[0m\u001b[0;34m(\u001b[0m\u001b[0;34m[\u001b[0m\u001b[0;36m0\u001b[0m\u001b[0;34m,\u001b[0m \u001b[0msizes\u001b[0m\u001b[0;34m[\u001b[0m\u001b[0;34m:\u001b[0m\u001b[0;34m-\u001b[0m\u001b[0;36m1\u001b[0m\u001b[0;34m]\u001b[0m\u001b[0;34m]\u001b[0m\u001b[0;34m)\u001b[0m\u001b[0;34m)\u001b[0m\u001b[0;34m,\u001b[0m \u001b[0mrepeats\u001b[0m\u001b[0;34m)\u001b[0m\u001b[0;34m\u001b[0m\u001b[0;34m\u001b[0m\u001b[0m\n\u001b[0m\u001b[1;32m    104\u001b[0m \u001b[0;34m\u001b[0m\u001b[0m\n\u001b[1;32m    105\u001b[0m \u001b[0;34m\u001b[0m\u001b[0m\n",
            "\u001b[0;32m/usr/local/lib/python3.6/dist-packages/numpy/core/fromnumeric.py\u001b[0m in \u001b[0;36mrepeat\u001b[0;34m(a, repeats, axis)\u001b[0m\n\u001b[1;32m    421\u001b[0m \u001b[0;34m\u001b[0m\u001b[0m\n\u001b[1;32m    422\u001b[0m     \"\"\"\n\u001b[0;32m--> 423\u001b[0;31m     \u001b[0;32mreturn\u001b[0m \u001b[0m_wrapfunc\u001b[0m\u001b[0;34m(\u001b[0m\u001b[0ma\u001b[0m\u001b[0;34m,\u001b[0m \u001b[0;34m'repeat'\u001b[0m\u001b[0;34m,\u001b[0m \u001b[0mrepeats\u001b[0m\u001b[0;34m,\u001b[0m \u001b[0maxis\u001b[0m\u001b[0;34m=\u001b[0m\u001b[0maxis\u001b[0m\u001b[0;34m)\u001b[0m\u001b[0;34m\u001b[0m\u001b[0;34m\u001b[0m\u001b[0m\n\u001b[0m\u001b[1;32m    424\u001b[0m \u001b[0;34m\u001b[0m\u001b[0m\n\u001b[1;32m    425\u001b[0m \u001b[0;34m\u001b[0m\u001b[0m\n",
            "\u001b[0;32m/usr/local/lib/python3.6/dist-packages/numpy/core/fromnumeric.py\u001b[0m in \u001b[0;36m_wrapfunc\u001b[0;34m(obj, method, *args, **kwds)\u001b[0m\n\u001b[1;32m     50\u001b[0m \u001b[0;32mdef\u001b[0m \u001b[0m_wrapfunc\u001b[0m\u001b[0;34m(\u001b[0m\u001b[0mobj\u001b[0m\u001b[0;34m,\u001b[0m \u001b[0mmethod\u001b[0m\u001b[0;34m,\u001b[0m \u001b[0;34m*\u001b[0m\u001b[0margs\u001b[0m\u001b[0;34m,\u001b[0m \u001b[0;34m**\u001b[0m\u001b[0mkwds\u001b[0m\u001b[0;34m)\u001b[0m\u001b[0;34m:\u001b[0m\u001b[0;34m\u001b[0m\u001b[0;34m\u001b[0m\u001b[0m\n\u001b[1;32m     51\u001b[0m     \u001b[0;32mtry\u001b[0m\u001b[0;34m:\u001b[0m\u001b[0;34m\u001b[0m\u001b[0;34m\u001b[0m\u001b[0m\n\u001b[0;32m---> 52\u001b[0;31m         \u001b[0;32mreturn\u001b[0m \u001b[0mgetattr\u001b[0m\u001b[0;34m(\u001b[0m\u001b[0mobj\u001b[0m\u001b[0;34m,\u001b[0m \u001b[0mmethod\u001b[0m\u001b[0;34m)\u001b[0m\u001b[0;34m(\u001b[0m\u001b[0;34m*\u001b[0m\u001b[0margs\u001b[0m\u001b[0;34m,\u001b[0m \u001b[0;34m**\u001b[0m\u001b[0mkwds\u001b[0m\u001b[0;34m)\u001b[0m\u001b[0;34m\u001b[0m\u001b[0;34m\u001b[0m\u001b[0m\n\u001b[0m\u001b[1;32m     53\u001b[0m \u001b[0;34m\u001b[0m\u001b[0m\n\u001b[1;32m     54\u001b[0m     \u001b[0;31m# An AttributeError occurs if the object does not have\u001b[0m\u001b[0;34m\u001b[0m\u001b[0;34m\u001b[0m\u001b[0;34m\u001b[0m\u001b[0m\n",
            "\u001b[0;31mValueError\u001b[0m: setting an array element with a sequence."
          ]
        }
      ]
    }
  ]
}