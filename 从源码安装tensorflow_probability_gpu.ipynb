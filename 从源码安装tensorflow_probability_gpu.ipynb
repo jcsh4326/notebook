{
  "nbformat": 4,
  "nbformat_minor": 0,
  "metadata": {
    "colab": {
      "name": "从源码安装tensorflow_probability_gpu.ipynb",
      "version": "0.3.2",
      "provenance": [],
      "include_colab_link": true
    },
    "kernelspec": {
      "name": "python3",
      "display_name": "Python 3"
    },
    "accelerator": "GPU"
  },
  "cells": [
    {
      "cell_type": "markdown",
      "metadata": {
        "id": "view-in-github",
        "colab_type": "text"
      },
      "source": [
        "<a href=\"https://colab.research.google.com/github/jcsh4326/notebook/blob/master/%E4%BB%8E%E6%BA%90%E7%A0%81%E5%AE%89%E8%A3%85tensorflow_probability_gpu.ipynb\" target=\"_parent\"><img src=\"https://colab.research.google.com/assets/colab-badge.svg\" alt=\"Open In Colab\"/></a>"
      ]
    },
    {
      "metadata": {
        "id": "zPRRHSjWWGPb",
        "colab_type": "text"
      },
      "cell_type": "markdown",
      "source": [
        "# 从源码安装tensorflow_probability_gpu\n",
        "## 安装bazel\n",
        "step1. download  Bazel binary installer named **bazel-<version>-installer-linux-x86_64.sh** from [github bazel project release list](https://github.com/bazelbuild/bazel/releases)\n",
        "\n",
        "PS. colab已经安装了bazel编译的依赖项，所以无需另外安装，如果是在其他环境下安装，酌情安装以下依赖项\n",
        "  \n",
        "\n",
        "```\n",
        "sudo apt-get install pkg-config zip g++ zlib1g-dev unzip python\n",
        "```\n",
        "\n"
      ]
    },
    {
      "metadata": {
        "id": "nbWyHqz6f4Iw",
        "colab_type": "code",
        "colab": {}
      },
      "cell_type": "code",
      "source": [
        "!ls"
      ],
      "execution_count": 0,
      "outputs": []
    },
    {
      "metadata": {
        "id": "T4Xu_AYZW5AO",
        "colab_type": "code",
        "colab": {}
      },
      "cell_type": "code",
      "source": [
        "!wget https://github.com/bazelbuild/bazel/releases/download/0.19.1/bazel-0.19.1-installer-linux-x86_64.sh\n",
        "!chmod +x bazel-0.19.1-installer-linux-x86_64.sh\n",
        "!./bazel-0.19.1-installer-linux-x86_64.sh --user"
      ],
      "execution_count": 0,
      "outputs": []
    },
    {
      "metadata": {
        "id": "Cqr96_oOXl26",
        "colab_type": "text"
      },
      "cell_type": "markdown",
      "source": [
        "## 安装tensorflow_probability_gpu\n",
        "官方建议安装方式\n",
        "\n",
        "```\n",
        "  sudo apt-get install bazel git python-pip\n",
        "  git clone https://github.com/tensorflow/probability.git\n",
        "  cd probability\n",
        "  bazel build --copt=-O3 --copt=-march=native :pip_pkg\n",
        "  PKGDIR=$(mktemp -d)\n",
        "  ./bazel-bin/pip_pkg $PKGDIR\n",
        "  pip install --user --upgrade $PKGDIR/*.whl\n",
        "```\n",
        "\n",
        "在colab上安装需要注意以下几点\n",
        "1. colab不能简单地使用cd命令进入指定文件夹，需要使用python语句\n",
        "2. colab不能简单地使用mktemp -d命令新建临时文件夹，需要使用python语句\n",
        "3. colab不能简单地使用export PATH 添加bazel到bin环境，使用全路径\n",
        "4. 打开colab的GPU硬件加速\n",
        "5. 在2018年11月初的[一次提交](https://github.com/tensorflow/probability/commit/16ec0e26503f3177a1b38b8508120163bef49752)中，`setup.py` 去除了GPU相关的build内容，所以 `--gpu` option无效了，直接build即可\n",
        "6. 实际上根据项目组的说法，tfp 对于GPU没有依赖，只有一个相关的版本标签"
      ]
    },
    {
      "metadata": {
        "id": "rHsTeGtqYDfM",
        "colab_type": "code",
        "colab": {}
      },
      "cell_type": "code",
      "source": [
        "!git clone https://github.com/tensorflow/probability.git"
      ],
      "execution_count": 0,
      "outputs": []
    },
    {
      "metadata": {
        "id": "R0AHX0BoZZXT",
        "colab_type": "code",
        "colab": {}
      },
      "cell_type": "code",
      "source": [
        "import os\n",
        "os.chdir('probability')\n",
        "!ls\n"
      ],
      "execution_count": 0,
      "outputs": []
    },
    {
      "metadata": {
        "id": "yDs-egE4xk9r",
        "colab_type": "code",
        "colab": {}
      },
      "cell_type": "code",
      "source": [
        "!$HOME/bin/bazel build --copt=-O3 --copt=-march=native :pip_pkg\n",
        "!ls"
      ],
      "execution_count": 0,
      "outputs": []
    },
    {
      "metadata": {
        "id": "JSfjavxRx5YN",
        "colab_type": "code",
        "colab": {}
      },
      "cell_type": "code",
      "source": [
        "!cat ./bazel-bin/pip_pkg"
      ],
      "execution_count": 0,
      "outputs": []
    },
    {
      "metadata": {
        "id": "W09X2iDOcDIC",
        "colab_type": "code",
        "colab": {}
      },
      "cell_type": "code",
      "source": [
        "from tempfile import TemporaryFile"
      ],
      "execution_count": 0,
      "outputs": []
    },
    {
      "metadata": {
        "id": "jAtib2Tddvqq",
        "colab_type": "code",
        "colab": {}
      },
      "cell_type": "code",
      "source": [
        "PKGDIR = TemporaryFile('w+t').name\n",
        "!echo $PKGDIR\n"
      ],
      "execution_count": 0,
      "outputs": []
    },
    {
      "metadata": {
        "id": "LOSUgyqbxLAx",
        "colab_type": "code",
        "colab": {}
      },
      "cell_type": "code",
      "source": [
        "!./bazel-bin/pip_pkg $PKGDIR\n",
        "!pip install --user --upgrade $PKGDIR/*.whl"
      ],
      "execution_count": 0,
      "outputs": []
    },
    {
      "metadata": {
        "id": "oEiKgOaRD4MI",
        "colab_type": "code",
        "colab": {}
      },
      "cell_type": "code",
      "source": [
        "import tensorflow as tf\n",
        "import tensorflow_probability as tfp"
      ],
      "execution_count": 0,
      "outputs": []
    }
  ]
}