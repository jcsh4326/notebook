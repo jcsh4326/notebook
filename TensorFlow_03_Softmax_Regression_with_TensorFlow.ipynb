{
  "nbformat": 4,
  "nbformat_minor": 0,
  "metadata": {
    "colab": {
      "name": "TensorFlow_03_Softmax_Regression_with_TensorFlow.ipynb",
      "version": "0.3.2",
      "provenance": [],
      "collapsed_sections": [
        "veO0U4jpGJYL"
      ],
      "include_colab_link": true
    },
    "kernelspec": {
      "name": "python3",
      "display_name": "Python 3"
    },
    "accelerator": "GPU"
  },
  "cells": [
    {
      "cell_type": "markdown",
      "metadata": {
        "id": "view-in-github",
        "colab_type": "text"
      },
      "source": [
        "<a href=\"https://colab.research.google.com/github/jcsh4326/notebook/blob/master/TensorFlow_03_Softmax_Regression_with_TensorFlow.ipynb\" target=\"_parent\"><img src=\"https://colab.research.google.com/assets/colab-badge.svg\" alt=\"Open In Colab\"/></a>"
      ]
    },
    {
      "metadata": {
        "id": "1Cq-Is0GuEy2",
        "colab_type": "text"
      },
      "cell_type": "markdown",
      "source": [
        "# Introduction\n",
        "cite [Stanford UFLDL Tutorial](http://deeplearning.stanford.edu/tutorial/supervised/SoftmaxRegression/)\n",
        "\n",
        "Softmax regression (or multinomial logistic regression) is a generalization of logistic regression to the case where we want to handle multiple classes. \n"
      ]
    },
    {
      "metadata": {
        "id": "veO0U4jpGJYL",
        "colab_type": "text"
      },
      "cell_type": "markdown",
      "source": [
        "## logistic regression\n",
        "In logistic regression we assumed that the labels were binary: $y^{(i)} \\in \\{0, 1\\}$. We used such a classifer to distinguish between two kinds of hand-written digits.\n",
        "\n",
        "Softmax regression allows us to handle $y^{(i)} \\in \\{i,...,K\\}$  where K is the number of classes, and so the label $y$ can take on $K$ different values.\n",
        "\n",
        "Recall that in logistic regression, we had a training set $\\{(x^{(1)}, y^{(1)}),..., (x^{(m)}, y^{(m)})\\}$ of $m$ labeled examples, where the input features are $x^{(i)} \\in R^n$. With logistic regression, we were in the binary classification setting, so the labels were $y^{(i)} \\in \\{0, 1\\}$.Our hypothesis took the form:\n",
        "$$ h_θ(x) = \\frac{ 1 }{ 1 + exp(-θ^Tx) } $$\n",
        "\n",
        "<sub>FYI. $T$ for matrix transpose, such as `\\top, \\mathsf{T}, and \\intercal`</sub>\n",
        "\n",
        "and the model parameters θ where trained to minimize the cost function(sometimes called loss function)\n",
        "$$ J(θ) = -[\\sum_{i=0}^m{y^{(i)}logh_θ(x^{(i)})}+(1 - y^{(i)}log(1 - h_θ(x^{(i)})))] $$\n",
        "\n"
      ]
    },
    {
      "metadata": {
        "id": "AylSJEC-H8hj",
        "colab_type": "text"
      },
      "cell_type": "markdown",
      "source": [
        "FYI. \n",
        "A **logistic function** or **logistic curve** is a common \"S\" shape (sigmoid curve), with equation:\n",
        "$$f(x) = \\frac{L}{1+exp^{-k(x-x_0)}}$$\n",
        "The standard logistic function is the logistic function with parameters (k = 1, x0 = 0, L = 1)"
      ]
    },
    {
      "metadata": {
        "id": "5IWQ2iWqGp6d",
        "colab_type": "code",
        "outputId": "6a6c2769-6de5-4235-8fc8-c694f7c19368",
        "colab": {
          "base_uri": "https://localhost:8080/",
          "height": 380
        }
      },
      "cell_type": "code",
      "source": [
        "#@title sigmoid function\n",
        "#@markdown sigmoid function is a special case of the Logistic function when L=1, k=1, x0=0 <br> p(x) = 1/(1 + e^(-x))\n",
        "import numpy as np\n",
        "import matplotlib.pyplot as plt\n",
        "\n",
        "def sigmoid(x):\n",
        "  return 1/(1 + np.exp(-x))\n",
        "plt.title(\"sigmoid function\")\n",
        "plt.xlabel(\"this is x axis\",fontsize=15,color='b')\n",
        "plt.ylabel(\"this is y axis\",fontsize=15,color='g')\n",
        "x = np.arange(-6.0,6,0.001)\n",
        "plt.plot(x,sigmoid(x),'r')\n",
        "plt.show()"
      ],
      "execution_count": 0,
      "outputs": [
        {
          "output_type": "display_data",
          "data": {
            "image/png": "[encoded data removed]",
            "text/plain": [
              "<matplotlib.figure.Figure at 0x7f4aa4aa84a8>"
            ]
          },
          "metadata": {
            "tags": []
          }
        }
      ]
    },
    {
      "metadata": {
        "id": "CO9rJjGjGC1w",
        "colab_type": "text"
      },
      "cell_type": "markdown",
      "source": [
        "## softmax regression\n",
        "In softmax regression we had a training set $\\{(x^{(1)}, y^{(1)}),..., (x^{(m)}, y^{(m)})\\}$,  $y_{(i)} \\in \\{1,2,...,K\\}$. Given a test input $x$, we want our hypothesis to estimate the probability that $P(y = k|x)$ for each value of $k = 1,...,K$. I.e., we want to estimate the probability of the class label taking on each of the $K$ different possible values. Thus, our hypothesis will output a $K-$dimensional vector (whose elements sum to 1) giving us our $K$ estimated probabilities.  Concretely, our hypothesis $$h_θ(x) = \\begin{pmatrix} P(y = 1|x;θ) \\\\ P(y = 2|x;θ) \\\\\\vdots \\\\ P(y = K|x;θ) \\end{pmatrix} = \\frac{1}{\\sum_{j=1}^K exp(θ^{(j)T}x)}\\begin{pmatrix}exp(θ^{(1)T}x)\\\\exp(θ^{(2)T}x)\\\\ \\vdots \\\\exp(θ^{(K)T}x) \\end{pmatrix}$$\n",
        "\n",
        "Here $θ^{(1)}, θ^{(2)}, \\cdots, θ^{(K)} \\in R^n$ are the parameters of our model. Notice that the term $\\frac{1}{\\sum_{j=1}^K exp(θ^{(j)T}x)}$ normallizes the distribution, so that it sums to one."
      ]
    },
    {
      "metadata": {
        "id": "T9dECGYqMKdh",
        "colab_type": "text"
      },
      "cell_type": "markdown",
      "source": [
        "## cost function\n",
        "In the equation below, $1\\{\\cdot\\}$ is the \"indicator function\", so that $1\\{a true statement\\} = 1$, and $1\\{a false statement\\} = 0$.\n",
        "In the equation \n",
        "###  logistic regression\n",
        "\n",
        "$$J(θ)=-\\lbrack\\sum_{i=1}^m(1-y^{(i)})log(1-h_θ(x^{(i)}))+y^{(i)}logh_θ(x^{(i)})\\rbrack=-[\\sum_{i=1}^m\\sum_{k=0}^11\\{y^{(i)}=k\\}logP(y^{(i)}=k|x^{(i)};θ)]$$\n",
        "\n",
        "in the equation, $k$ is the class labels, $0 or 1$, $m$ is the labeld examples number ,  from $1$ to $m$.\n",
        "\n",
        "Generalizing the logistic regression cost function, our cost function will be:\n",
        "$$J(θ)=-[\\sum_{(i=1)}^m\\sum_{(k=1)}^K1\\{y^{(i)=k}\\}log\\frac{exp(θ^{(k)T}x^{(i)})}{\\sum_{j=1}^Kexp(θ^{(j)T}x^{(i)})}]$$\n",
        "\n",
        "### softmax regression\n",
        "The softmax regression cost function is similar, except that we now sum over the $K$ different possible values of the class label. Note also that in softmax regression, we have that\n",
        "$$P(y^{(i)} = k|x^{(i)};θ) = \\frac{exp(θ^{(k)T}x^{(i)})}{\\sum_{j=1}^Kexp(θ^{(j)T}x^{(i)})}$$\n",
        "\n",
        "For solving the minimum of $J(θ)$, we resort to an iterative optimization algorithm, such as L-BFGS, gradient descent.\n",
        "\n",
        "Taking derivatives,  one can show that the gradient is:\n",
        "$$\\nabla_{\\theta^{(k)}}J(\\theta) = - \\sum_{i=1}^M[x^{(i)}(1\\{y^{(i)}=k\\}-P(y{(i)}=k|x^{(i)};\\theta))]$$\n",
        "\n",
        "In particular, $\\nabla_{\\theta^{(k)}}J(\\theta)$ is itself a vector, so that its $l$-th element is $\\frac{\\partial J(\\theta)}{\\partial\\theta_{lk}}$ the partial derivative of $J(\\theta)$ with respect of the $l$-th element of $\\theta^{(k)}$.\n",
        "\n",
        "In the standard implementation of gradient descent, each iteration requires the following updates:\n",
        "$$\\theta_j := \\theta_j - \\alpha\\nabla_{\\theta_j}J(\\theta)(j = 1,...,k)$$\n",
        "\n",
        "## weight decay\n",
        "Softmax regression has a \"redundant\" set of parameters.\n",
        "\n",
        "If we subtract some fixed vector $\\psi$ from out parameter vectors $\\theta^{(j)}$, so that every $\\theta^{(j)}$ is now replaced with $\\theta^{(j)} - \\psi$ (for every $j = 1,...,k$). So the class label probabilities as \n",
        "$$P(y^{(i)} = k|x^{(i);\\theta}) =  \\frac{exp((θ^{(k)}-\\psi)^Tx^{(i)})}{\\sum_{j=1}^Kexp((θ^{(j)}-\\psi)^Tx^{(i)})}=\\frac{exp(\\theta^{(k)T}x^{(i)})exp(-\\psi^Tx^{(i)})}{\\sum_{j=1}^Kexp(\\theta^{(j)T}x^{(i)})exp(-\\psi^Tx^{(i)})}= \\frac{exp(θ^{(k)T}x^{(i)})}{\\sum_{j=1}^Kexp(θ^{(j)T}x^{(i)})}$$\n",
        "\n",
        "As the equation shows, there are multiple parameter settings that give rise to exactly the same hypothesis function $h_\\theta$ mapping from inputs $x$ to the predictions. Thus, the minimizer of $J(\\theta)$ is not unique.\n",
        "\n",
        "$J(\\theta)$ is still convex, and thus gradient descent will not run into local optima problems, but the Hessian is singular/non-invertible, which causes a straightforward implementation of Newton’s method to run into numerical problems.\n",
        "\n",
        "for optimizing the clear and definite parameters, we remain all the parameters instead of setting one of the parameters to 0 by changing the cost function with \"weight decay item\".\n",
        "\n",
        "A weight decay item $\\frac{ \\lambda }{2}\\sum_{i=1}^k\\sum_{j=0}^m\\theta_{ij}^2$ penalizes large values of the parameters.\n",
        "\n",
        "$$J(θ)=-[\\sum_{(i=1)}^m\\sum_{(k=1)}^K1\\{y^{(i)=k}\\}log\\frac{exp(θ^{(k)T}x^{(i)})}{\\sum_{j=1}^Kexp(θ^{(j)T}x^{(i)})}] + \\frac{ \\lambda }{2}\\sum_{i=1}^k\\sum_{j=0}^m\\theta_{ij}^2$$\n",
        "\n",
        "The cost function now is strictly convex, and is guaranteed to have a unique solution.\n",
        "\n",
        "To apply an optimization algorithm, we also need the derivative of this new definition of $J(\\theta)$, one can show that the derivative is:\n",
        " $$\\nabla_{\\theta^{(k)}}J(\\theta) = - \\sum_{i=1}^M[x^{(i)}(1\\{y^{(i)}=k\\}-P(y{(i)}=k|x^{(i)};\\theta))] + \\lambda\\theta_k $$\n"
      ]
    },
    {
      "metadata": {
        "id": "aXLEcXCEMAD0",
        "colab_type": "text"
      },
      "cell_type": "markdown",
      "source": [
        "# Implement\n"
      ]
    },
    {
      "metadata": {
        "id": "tvuh-z8HCZ98",
        "colab_type": "text"
      },
      "cell_type": "markdown",
      "source": [
        "\n",
        " Below we will implement a softmax regression algorithm with TensorFlow."
      ]
    },
    {
      "metadata": {
        "id": "XKSNQluw7A7H",
        "colab_type": "code",
        "outputId": "592c3cf9-4eca-41e7-80ba-badb1ae71e19",
        "colab": {
          "base_uri": "https://localhost:8080/",
          "height": 530
        }
      },
      "cell_type": "code",
      "source": [
        "#@title import\n",
        "import tensorflow as tf\n",
        "from tensorflow.examples.tutorials.mnist import input_data\n",
        "\n",
        "mnist = input_data.read_data_sets(\"MNIST_data/\", one_hot=True)"
      ],
      "execution_count": 0,
      "outputs": [
        {
          "output_type": "stream",
          "text": [
            "WARNING:tensorflow:From <ipython-input-15-1619da060e78>:4: read_data_sets (from tensorflow.contrib.learn.python.learn.datasets.mnist) is deprecated and will be removed in a future version.\n",
            "Instructions for updating:\n",
            "Please use alternatives such as official/mnist/dataset.py from tensorflow/models.\n",
            "WARNING:tensorflow:From /usr/local/lib/python3.6/dist-packages/tensorflow/contrib/learn/python/learn/datasets/mnist.py:260: maybe_download (from tensorflow.contrib.learn.python.learn.datasets.base) is deprecated and will be removed in a future version.\n",
            "Instructions for updating:\n",
            "Please write your own downloading logic.\n",
            "WARNING:tensorflow:From /usr/local/lib/python3.6/dist-packages/tensorflow/contrib/learn/python/learn/datasets/base.py:252: _internal_retry.<locals>.wrap.<locals>.wrapped_fn (from tensorflow.contrib.learn.python.learn.datasets.base) is deprecated and will be removed in a future version.\n",
            "Instructions for updating:\n",
            "Please use urllib or similar directly.\n",
            "Successfully downloaded train-images-idx3-ubyte.gz 9912422 bytes.\n",
            "WARNING:tensorflow:From /usr/local/lib/python3.6/dist-packages/tensorflow/contrib/learn/python/learn/datasets/mnist.py:262: extract_images (from tensorflow.contrib.learn.python.learn.datasets.mnist) is deprecated and will be removed in a future version.\n",
            "Instructions for updating:\n",
            "Please use tf.data to implement this functionality.\n",
            "Extracting MNIST_data/train-images-idx3-ubyte.gz\n",
            "Successfully downloaded train-labels-idx1-ubyte.gz 28881 bytes.\n",
            "WARNING:tensorflow:From /usr/local/lib/python3.6/dist-packages/tensorflow/contrib/learn/python/learn/datasets/mnist.py:267: extract_labels (from tensorflow.contrib.learn.python.learn.datasets.mnist) is deprecated and will be removed in a future version.\n",
            "Instructions for updating:\n",
            "Please use tf.data to implement this functionality.\n",
            "Extracting MNIST_data/train-labels-idx1-ubyte.gz\n",
            "WARNING:tensorflow:From /usr/local/lib/python3.6/dist-packages/tensorflow/contrib/learn/python/learn/datasets/mnist.py:110: dense_to_one_hot (from tensorflow.contrib.learn.python.learn.datasets.mnist) is deprecated and will be removed in a future version.\n",
            "Instructions for updating:\n",
            "Please use tf.one_hot on tensors.\n",
            "Successfully downloaded t10k-images-idx3-ubyte.gz 1648877 bytes.\n",
            "Extracting MNIST_data/t10k-images-idx3-ubyte.gz\n",
            "Successfully downloaded t10k-labels-idx1-ubyte.gz 4542 bytes.\n",
            "Extracting MNIST_data/t10k-labels-idx1-ubyte.gz\n",
            "WARNING:tensorflow:From /usr/local/lib/python3.6/dist-packages/tensorflow/contrib/learn/python/learn/datasets/mnist.py:290: DataSet.__init__ (from tensorflow.contrib.learn.python.learn.datasets.mnist) is deprecated and will be removed in a future version.\n",
            "Instructions for updating:\n",
            "Please use alternatives such as official/mnist/dataset.py from tensorflow/models.\n"
          ],
          "name": "stdout"
        }
      ]
    },
    {
      "metadata": {
        "id": "7hETUPiZ7TmA",
        "colab_type": "code",
        "colab": {}
      },
      "cell_type": "code",
      "source": [
        "#@title define placeholder for inputs to algorithm\n",
        "inputs = tf.placeholder(tf.float32, [None, None])\n",
        "labels = tf.placeholder(tf.float32, [None, 10])"
      ],
      "execution_count": 0,
      "outputs": []
    },
    {
      "metadata": {
        "id": "C6oMQkgh8WXT",
        "colab_type": "code",
        "colab": {}
      },
      "cell_type": "code",
      "source": [
        "#@title add layer\n",
        "def add_layer(inputs, w_dimension):\n",
        "  # 10 class labels\n",
        "  W = tf.Variable(tf.zeros([w_dimension, 10]))\n",
        "  biases = tf.Variable(tf.zeros([10]))\n",
        "  outputs = tf.nn.softmax(tf.matmul(inputs, W) + biases)\n",
        "  return outputs"
      ],
      "execution_count": 0,
      "outputs": []
    },
    {
      "metadata": {
        "id": "IF1kMbKo-HUN",
        "colab_type": "code",
        "colab": {}
      },
      "cell_type": "code",
      "source": [
        "#@title define loss function/coss function\n",
        "\n",
        "prediction = add_layer(inputs, w_dimension=784)\n",
        "loss = tf.reduce_sum(labels*tf.log(prediction))"
      ],
      "execution_count": 0,
      "outputs": []
    },
    {
      "metadata": {
        "id": "F6QCeUI5-oZj",
        "colab_type": "code",
        "colab": {}
      },
      "cell_type": "code",
      "source": [
        "#@title train\n",
        "l_r = 0.01 # learning rate\n",
        "train_step = tf.train.GradientDescentOptimizer(l_r).minimize(loss)"
      ],
      "execution_count": 0,
      "outputs": []
    },
    {
      "metadata": {
        "id": "A_xcBAeC_yYj",
        "colab_type": "code",
        "colab": {}
      },
      "cell_type": "code",
      "source": [
        "#@title init\n",
        "sess = tf.Session()\n",
        "init = tf.global_variables_initializer()\n",
        "sess.run(init)"
      ],
      "execution_count": 0,
      "outputs": []
    },
    {
      "metadata": {
        "id": "ROiy-vFg_44o",
        "colab_type": "code",
        "colab": {}
      },
      "cell_type": "code",
      "source": [
        "#@title train data\n",
        "itera = 1000\n",
        "for i in range(itera):\n",
        "  batch_xs, batch_ys = mnist.train.next_batch(100)\n",
        "  sess.run(train_step, feed_dict={inputs: batch_xs, labels: batch_ys})\n"
      ],
      "execution_count": 0,
      "outputs": []
    },
    {
      "metadata": {
        "id": "VtOeXg4ICMYp",
        "colab_type": "code",
        "outputId": "f7140ce6-f66e-4029-f172-7871bcfe7192",
        "colab": {
          "base_uri": "https://localhost:8080/",
          "height": 34
        }
      },
      "cell_type": "code",
      "source": [
        "#@title accuracy\n",
        "correct_prediction = tf.equal(tf.argmax(prediction, 1), tf.argmax(labels, 1))\n",
        "accuracy = tf.reduce_mean(tf.cast(correct_prediction, \"float\"))\n",
        "print(sess.run(accuracy, feed_dict={inputs: mnist.test.images, labels: mnist.test.labels}))"
      ],
      "execution_count": 0,
      "outputs": [
        {
          "output_type": "stream",
          "text": [
            "0.098\n"
          ],
          "name": "stdout"
        }
      ]
    }
  ]
}