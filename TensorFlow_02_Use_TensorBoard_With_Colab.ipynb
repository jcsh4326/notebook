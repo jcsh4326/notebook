{
  "nbformat": 4,
  "nbformat_minor": 0,
  "metadata": {
    "colab": {
      "name": "TensorFlow_02_Use_TensorBoard_With_Colab.ipynb",
      "version": "0.3.2",
      "provenance": [],
      "collapsed_sections": [],
      "include_colab_link": true
    },
    "kernelspec": {
      "name": "python3",
      "display_name": "Python 3"
    },
    "accelerator": "GPU"
  },
  "cells": [
    {
      "cell_type": "markdown",
      "metadata": {
        "id": "view-in-github",
        "colab_type": "text"
      },
      "source": [
        "<a href=\"https://colab.research.google.com/github/jcsh4326/notebook/blob/master/TensorFlow_02_Use_TensorBoard_With_Colab.ipynb\" target=\"_parent\"><img src=\"https://colab.research.google.com/assets/colab-badge.svg\" alt=\"Open In Colab\"/></a>"
      ]
    },
    {
      "metadata": {
        "id": "BZksEu-5PCfs",
        "colab_type": "text"
      },
      "cell_type": "markdown",
      "source": [
        "# 在colab中使用TensorBoard\n",
        "利用ngrok进行内网穿透，访问TensorBoard\n",
        "\n",
        "详见[stackoverflow](https://stackoverflow.com/questions/47818822/can-i-use-tensorboard-with-google-colab)"
      ]
    },
    {
      "metadata": {
        "id": "cDShjn1wPm5N",
        "colab_type": "code",
        "colab": {}
      },
      "cell_type": "code",
      "source": [
        "#@title import\n",
        "import numpy as np\n",
        "import tensorflow as tf"
      ],
      "execution_count": 0,
      "outputs": []
    },
    {
      "metadata": {
        "id": "vZxWgXVnGoUf",
        "colab_type": "code",
        "colab": {}
      },
      "cell_type": "code",
      "source": [
        "#@title function helper\n",
        "#@markdown edit layer <br> outputs = inputs * Weights + biases\n",
        "def add_layer(inputs, in_size, out_size, n_layer, activation_function=None):\n",
        "  # add one more layer and return the output of this layer    \n",
        "  layer_name = 'layer{}'.format(n_layer)\n",
        "  with tf.name_scope(layer_name):\n",
        "    with tf.name_scope('weights'):\n",
        "      Weights = tf.Variable(tf.random_normal([in_size, out_size]), name='weights')\n",
        "      tf.summary.histogram('{}/weights'.format(layer_name), Weights)\n",
        "    with tf.name_scope('biases'):\n",
        "      biases = tf.Variable(tf.zeros([1, out_size]) + 0.1, name='biases')\n",
        "      tf.summary.histogram('{}/biases'.format(layer_name), biases)\n",
        "    with tf.name_scope('outpus_y'):\n",
        "      Wx_plus_b = tf.add(tf.matmul(inputs, Weights), biases)\n",
        "    if activation_function is None:\n",
        "      outputs = Wx_plus_b\n",
        "    else:\n",
        "      outputs = activation_function(Wx_plus_b)\n",
        "    tf.summary.histogram('{}/outputs'.format(layer_name), outputs)\n",
        "    return outputs"
      ],
      "execution_count": 0,
      "outputs": []
    },
    {
      "metadata": {
        "id": "0jqhKsHaF_Cl",
        "colab_type": "code",
        "colab": {}
      },
      "cell_type": "code",
      "source": [
        "#@title define placeholder for inputs to network\n",
        "with tf.name_scope('inputs'):\n",
        "  # define placeholder for inputs to network\n",
        "  xs = tf.placeholder(tf.float32, [None, 1], name='x_in')\n",
        "  ys = tf.placeholder(tf.float32, [None, 1], name='y_in') "
      ],
      "execution_count": 0,
      "outputs": []
    },
    {
      "metadata": {
        "id": "kdZdPwuGI1jR",
        "colab_type": "code",
        "colab": {}
      },
      "cell_type": "code",
      "source": [
        "#@title add hidden layer\n",
        "# add hidden layer\n",
        "l1 = add_layer(xs, 1, 10, n_layer = 1, activation_function=tf.nn.relu)\n",
        "# add output layer\n",
        "prediction = add_layer(l1, 10, 1, n_layer = 2, activation_function=None)"
      ],
      "execution_count": 0,
      "outputs": []
    },
    {
      "metadata": {
        "id": "iQ086EB2IJme",
        "colab_type": "code",
        "colab": {}
      },
      "cell_type": "code",
      "source": [
        "#@title loss function, the error between prediciton and real data\n",
        "with tf.name_scope('loss'):\n",
        "  loss = tf.reduce_mean(tf.reduce_sum(tf.square(ys - prediction), 1))   \n",
        "  tf.summary.scalar('loss', loss)"
      ],
      "execution_count": 0,
      "outputs": []
    },
    {
      "metadata": {
        "id": "F77bOdl7InBq",
        "colab_type": "code",
        "colab": {}
      },
      "cell_type": "code",
      "source": [
        "#@title train\n",
        "with tf.name_scope('train'):\n",
        "  train_step = tf.train.GradientDescentOptimizer(0.1).minimize(loss)"
      ],
      "execution_count": 0,
      "outputs": []
    },
    {
      "metadata": {
        "id": "qwDFXD1hJHjV",
        "colab_type": "code",
        "colab": {}
      },
      "cell_type": "code",
      "source": [
        "#@title run\n",
        "sess = tf.Session()\n",
        "\n",
        "merged = tf.summary.merge_all()\n",
        "\n",
        "writer = tf.summary.FileWriter(\"logs/\", sess.graph)\n",
        "\n",
        "init = tf.global_variables_initializer()\n",
        "sess.run(init)"
      ],
      "execution_count": 0,
      "outputs": []
    },
    {
      "metadata": {
        "id": "spXtwFB0ULCx",
        "colab_type": "code",
        "colab": {}
      },
      "cell_type": "code",
      "source": [
        "#@title train data simulator\n",
        "x_data = np.linspace(-1, 1, 300, dtype=np.float32)[:, np.newaxis]\n",
        "noise = np.random.normal(0, 0.05, x_data.shape).astype(np.float32)\n",
        "y_data = np.square(x_data) - 0.5 + noise\n",
        "\n",
        "for i in range(1000):\n",
        "  sess.run(train_step, feed_dict={xs:x_data, ys:y_data})\n",
        "  if i % 50 == 0:\n",
        "    rs = sess.run(merged, feed_dict={xs:x_data, ys:y_data})\n",
        "    writer.add_summary(rs, i)"
      ],
      "execution_count": 0,
      "outputs": []
    },
    {
      "metadata": {
        "id": "XaXgH7qrMuF5",
        "colab_type": "code",
        "outputId": "c709a3c4-7020-4ec4-a0eb-040d57546ae5",
        "colab": {
          "base_uri": "https://localhost:8080/",
          "height": 238
        }
      },
      "cell_type": "code",
      "source": [
        "#@title install ngrok\n",
        "!wget https://bin.equinox.io/c/4VmDzA7iaHb/ngrok-stable-linux-amd64.zip\n",
        "!unzip ngrok-stable-linux-amd64.zip\n"
      ],
      "execution_count": 13,
      "outputs": [
        {
          "output_type": "stream",
          "text": [
            "--2018-11-30 06:35:54--  https://bin.equinox.io/c/4VmDzA7iaHb/ngrok-stable-linux-amd64.zip\n",
            "Resolving bin.equinox.io (bin.equinox.io)... 35.173.6.94, 34.196.237.103, 35.173.3.255, ...\n",
            "Connecting to bin.equinox.io (bin.equinox.io)|35.173.6.94|:443... connected.\n",
            "HTTP request sent, awaiting response... 200 OK\n",
            "Length: 5363700 (5.1M) [application/octet-stream]\n",
            "Saving to: ‘ngrok-stable-linux-amd64.zip’\n",
            "\n",
            "ngrok-stable-linux- 100%[===================>]   5.11M  3.48MB/s    in 1.5s    \n",
            "\n",
            "2018-11-30 06:35:57 (3.48 MB/s) - ‘ngrok-stable-linux-amd64.zip’ saved [5363700/5363700]\n",
            "\n",
            "Archive:  ngrok-stable-linux-amd64.zip\n",
            "  inflating: ngrok                   \n"
          ],
          "name": "stdout"
        }
      ]
    },
    {
      "metadata": {
        "id": "R5j-tGROMxWX",
        "colab_type": "code",
        "outputId": "91edcdef-7ad1-4da0-affe-b92b58ed18af",
        "colab": {
          "base_uri": "https://localhost:8080/",
          "height": 34
        }
      },
      "cell_type": "code",
      "source": [
        "#@title ngrok\n",
        "LOG_DIR = './logs'\n",
        "get_ipython().system_raw(\n",
        "    'tensorboard --logdir {} --host 0.0.0.0 --port 6006 &'\n",
        "    .format(LOG_DIR)\n",
        ")\n",
        "\n",
        "get_ipython().system_raw('./ngrok http 6006 &')\n",
        "!curl -s http://localhost:4040/api/tunnels | python3 -c \\\n",
        "    \"import sys, json; print(json.load(sys.stdin)['tunnels'][0]['public_url'])\""
      ],
      "execution_count": 15,
      "outputs": [
        {
          "output_type": "stream",
          "text": [
            "https://065ce897.ngrok.io\n"
          ],
          "name": "stdout"
        }
      ]
    }
  ]
}